{
 "cells": [
  {
   "cell_type": "code",
   "execution_count": 1,
   "id": "880ad2d0-b913-4a0c-abe6-ba4aa64b9340",
   "metadata": {},
   "outputs": [],
   "source": [
    "import pandas as pd"
   ]
  },
  {
   "cell_type": "code",
   "execution_count": 9,
   "id": "c1d176bb-b979-46c0-b061-f2f65ba06221",
   "metadata": {},
   "outputs": [],
   "source": [
    "# read data from file and handle null values\n",
    "df = pd.read_csv('../Raw Data/orders.csv', na_values=['Not Available', 'unknown'])"
   ]
  },
  {
   "cell_type": "code",
   "execution_count": 11,
   "id": "6cca8647-16d7-4978-8eda-0599e1341231",
   "metadata": {},
   "outputs": [],
   "source": [
    "# rename columns names, make them lower case and replace space with underscore\n",
    "df.columns = df.columns.str.lower()\n",
    "df.columns = df.columns.str.replace(' ', '_')"
   ]
  },
  {
   "cell_type": "code",
   "execution_count": 15,
   "id": "0d816d27-bff6-4c55-a4a3-7b7fa43ed96e",
   "metadata": {},
   "outputs": [],
   "source": [
    "# derive new columns: discount, sales price and profit\n",
    "# discount = list price * discount percentage\n",
    "df['discount'] = df['list_price'] * df['discount_percent'] / 100\n",
    "# sales price = list_price - discount\n",
    "df['sales_price'] = df['list_price'] - df['discount']\n",
    "# profit = sales price - cost price\n",
    "df['profit'] = df['sales_price'] - df['cost_price']"
   ]
  },
  {
   "cell_type": "code",
   "execution_count": 18,
   "id": "28ceaa5d-64a8-407e-a148-8ad190e0599f",
   "metadata": {},
   "outputs": [],
   "source": [
    "# convert order date from object data type to datetime\n",
    "df['order_date'] = pd.to_datetime(df['order_date'])"
   ]
  },
  {
   "cell_type": "code",
   "execution_count": 22,
   "id": "f1f40bf6-8506-4891-8ded-df5aeba6f3e6",
   "metadata": {},
   "outputs": [],
   "source": [
    "import psycopg2\n",
    "from sqlalchemy import create_engine"
   ]
  },
  {
   "cell_type": "code",
   "execution_count": 24,
   "id": "5c32aebf-e32f-4330-bae8-f2118ba8b8c7",
   "metadata": {},
   "outputs": [],
   "source": [
    "# postgresql credentials\n",
    "user = 'postgres'\n",
    "password = 'postgres'\n",
    "host = 'localhost'\n",
    "port = '5432'\n",
    "database = 'retail_orders_db'\n",
    "# connection string\n",
    "conn_str = f'postgresql://{user}:{password}@{host}:{port}/{database}'\n",
    "# sqlalchemy engine\n",
    "conn = create_engine(conn_str)"
   ]
  },
  {
   "cell_type": "code",
   "execution_count": 25,
   "id": "90c0ccd4-ae03-47b1-8fec-529ffffe28ef",
   "metadata": {},
   "outputs": [
    {
     "data": {
      "text/plain": [
       "994"
      ]
     },
     "execution_count": 25,
     "metadata": {},
     "output_type": "execute_result"
    }
   ],
   "source": [
    "# load the dataframe to postgresql database\n",
    "df.to_sql('orders', con=conn, index=False, if_exists='append')"
   ]
  },
  {
   "cell_type": "code",
   "execution_count": 26,
   "id": "025bc5f5-b7fd-4cd6-8476-0628e2db3f4a",
   "metadata": {},
   "outputs": [],
   "source": [
    "# save the dataframe to csv file\n",
    "df.to_csv('../Cleaned Data/orders.csv', index=False)"
   ]
  }
 ],
 "metadata": {
  "kernelspec": {
   "display_name": "Python 3 (ipykernel)",
   "language": "python",
   "name": "python3"
  },
  "language_info": {
   "codemirror_mode": {
    "name": "ipython",
    "version": 3
   },
   "file_extension": ".py",
   "mimetype": "text/x-python",
   "name": "python",
   "nbconvert_exporter": "python",
   "pygments_lexer": "ipython3",
   "version": "3.12.0"
  }
 },
 "nbformat": 4,
 "nbformat_minor": 5
}
